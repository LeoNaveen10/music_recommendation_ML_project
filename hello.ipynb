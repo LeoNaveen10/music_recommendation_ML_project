{
 "cells": [
  {
   "cell_type": "code",
   "execution_count": 36,
   "id": "7e78fcd8",
   "metadata": {},
   "outputs": [
    {
     "data": {
      "text/plain": [
       "1.0"
      ]
     },
     "execution_count": 36,
     "metadata": {},
     "output_type": "execute_result"
    }
   ],
   "source": [
    "import pandas as pd\n",
    "from sklearn.tree import DecisionTreeClassifier\n",
    "from sklearn.model_selection import train_test_split\n",
    "from sklearn.metrics import accuracy_score\n",
    "\n",
    "ds = pd.read_csv('music.csv')\n",
    "X = ds.drop(columns=['genre']) #input set\n",
    "Y = ds['genre'];  #output set\n",
    "\n",
    "#set 20% for test and 80% for training\n",
    "X_train,X_test,Y_train,Y_test=train_test_split(X,Y,test_size=0.2)\n",
    "\n",
    "\n",
    "predObj = DecisionTreeClassifier()\n",
    "predObj.fit(X_train,Y_train)\n",
    "predictions=predObj.predict(X_test)\n",
    "score=accuracy_score(Y_test,predictions)\n",
    "score"
   ]
  },
  {
   "cell_type": "code",
   "execution_count": 45,
   "id": "9b5204b2",
   "metadata": {},
   "outputs": [
    {
     "data": {
      "text/plain": [
       "['music_recommender.joblib']"
      ]
     },
     "execution_count": 45,
     "metadata": {},
     "output_type": "execute_result"
    }
   ],
   "source": [
    "import pandas as pd\n",
    "from sklearn.tree import DecisionTreeClassifier\n",
    "import joblib\n",
    "\n",
    "ds = pd.read_csv('music.csv')\n",
    "X=ds.drop(columns=['genre'])\n",
    "Y=ds['genre']\n",
    "\n",
    "predobj = DecisionTreeClassifier()\n",
    "predObj.fit(X,Y)\n",
    "\n",
    "joblib.dump(predObj,'music_recommender.joblib')\n",
    "\n",
    "\n",
    "# prediciton=predObj.predict([[21,1]]);\n",
    "# prediciton\n",
    "\n",
    "\n",
    "#saving the training sets in music_recommender.joblib file"
   ]
  },
  {
   "cell_type": "code",
   "execution_count": 47,
   "id": "7c0d5920",
   "metadata": {},
   "outputs": [
    {
     "name": "stderr",
     "output_type": "stream",
     "text": [
      "C:\\Users\\navee\\anaconda3\\lib\\site-packages\\sklearn\\base.py:450: UserWarning: X does not have valid feature names, but DecisionTreeClassifier was fitted with feature names\n",
      "  warnings.warn(\n"
     ]
    },
    {
     "data": {
      "text/plain": [
       "array(['HipHop'], dtype=object)"
      ]
     },
     "execution_count": 47,
     "metadata": {},
     "output_type": "execute_result"
    }
   ],
   "source": [
    "import joblib\n",
    "\n",
    "#precisting load models from running only once for training\n",
    "model = joblib.load('music_recommender.joblib')\n",
    "prediction=model.predict([[21,1]])\n",
    "prediction"
   ]
  },
  {
   "cell_type": "code",
   "execution_count": 50,
   "id": "6e7739df",
   "metadata": {},
   "outputs": [],
   "source": [
    "#we are visualizing the predictions of the Decision tree classifier here\n",
    "\n",
    "from sklearn import tree\n",
    "from sklearn.tree import DecisionTreeClassifier\n",
    "import pandas as pd\n",
    "\n",
    "ds = pd.read_csv('music.csv')\n",
    "X=ds.drop(columns=['genre'])\n",
    "Y=ds['genre']\n",
    "\n",
    "predObj = DecisionTreeClassifier()\n",
    "predObj.fit(X,Y)\n",
    "\n",
    "tree.export_graphviz(predObj,out_file='music-recommender.dot',\n",
    "                    feature_names = ['age','gender'],\n",
    "                    class_names = sorted(Y.unique()),\n",
    "                    label ='all',\n",
    "                    rounded =True,\n",
    "                    filled = True\n",
    "                    )\n"
   ]
  },
  {
   "cell_type": "code",
   "execution_count": null,
   "id": "6bba9827",
   "metadata": {},
   "outputs": [],
   "source": []
  }
 ],
 "metadata": {
  "kernelspec": {
   "display_name": "Python 3.8.10 64-bit",
   "language": "python",
   "name": "python3"
  },
  "language_info": {
   "codemirror_mode": {
    "name": "ipython",
    "version": 3
   },
   "file_extension": ".py",
   "mimetype": "text/x-python",
   "name": "python",
   "nbconvert_exporter": "python",
   "pygments_lexer": "ipython3",
   "version": "3.8.10"
  },
  "vscode": {
   "interpreter": {
    "hash": "1767530742f0b2d5b946a6b88bbba28d580983d5f60d9f7fe1b98fe48771cd9e"
   }
  }
 },
 "nbformat": 4,
 "nbformat_minor": 5
}
